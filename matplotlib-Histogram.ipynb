{
 "cells": [
  {
   "cell_type": "code",
   "execution_count": 1,
   "id": "ae7ae2a5",
   "metadata": {},
   "outputs": [],
   "source": [
    "import numpy as np\n",
    "import pandas as pd\n",
    "import matplotlib.pyplot as plt"
   ]
  },
  {
   "cell_type": "code",
   "execution_count": 3,
   "id": "393ba23a",
   "metadata": {},
   "outputs": [
    {
     "data": {
      "text/plain": [
       "array([10, 15, 20, 25, 30, 35, 40, 45])"
      ]
     },
     "execution_count": 3,
     "metadata": {},
     "output_type": "execute_result"
    }
   ],
   "source": [
    "ary1 = np.arange(10,50,5)\n",
    "ary1"
   ]
  },
  {
   "cell_type": "code",
   "execution_count": 4,
   "id": "ec4b887d",
   "metadata": {},
   "outputs": [
    {
     "data": {
      "text/plain": [
       "array([50, 45, 40, 35, 30, 25, 20, 15, 10])"
      ]
     },
     "execution_count": 4,
     "metadata": {},
     "output_type": "execute_result"
    }
   ],
   "source": [
    "ary2 = np.arange(50,5,-5)\n",
    "ary2"
   ]
  },
  {
   "cell_type": "code",
   "execution_count": 5,
   "id": "baac66c2",
   "metadata": {},
   "outputs": [],
   "source": [
    "read = [10, 15, 20, 25, 30, 35, 40, 45,50, 45, 40, 35, 30, 25, 20, 15, 10]"
   ]
  },
  {
   "cell_type": "code",
   "execution_count": 11,
   "id": "22ee42cd",
   "metadata": {},
   "outputs": [],
   "source": [
    "temp1 = np.random.randint(20,50,(30))"
   ]
  },
  {
   "cell_type": "code",
   "execution_count": 12,
   "id": "7681d51d",
   "metadata": {},
   "outputs": [
    {
     "data": {
      "text/plain": [
       "array([42, 36, 39, 23, 40, 35, 44, 49, 28, 30, 36, 25, 48, 23, 42, 43, 47,\n",
       "       44, 32, 27, 34, 36, 33, 47, 30, 48, 20, 45, 25, 36])"
      ]
     },
     "execution_count": 12,
     "metadata": {},
     "output_type": "execute_result"
    }
   ],
   "source": [
    "temp1"
   ]
  },
  {
   "cell_type": "markdown",
   "id": "2b9e5af0",
   "metadata": {},
   "source": [
    "# Histogram-hist"
   ]
  },
  {
   "cell_type": "code",
   "execution_count": 8,
   "id": "9b50e2b3",
   "metadata": {},
   "outputs": [
    {
     "data": {
      "text/plain": [
       "(array([2., 0., 2., 0., 0., 2., 0., 2., 0., 0., 2., 0., 2., 0., 0., 2., 0.,\n",
       "        2., 0., 1.]),\n",
       " array([10., 12., 14., 16., 18., 20., 22., 24., 26., 28., 30., 32., 34.,\n",
       "        36., 38., 40., 42., 44., 46., 48., 50.]),\n",
       " <BarContainer object of 20 artists>)"
      ]
     },
     "execution_count": 8,
     "metadata": {},
     "output_type": "execute_result"
    },
    {
     "data": {
      "image/png": "[encoded data removed]",
      "text/plain": [
       "<Figure size 432x288 with 1 Axes>"
      ]
     },
     "metadata": {
      "needs_background": "light"
     },
     "output_type": "display_data"
    }
   ],
   "source": [
    "plt.hist([read],bins = 20)"
   ]
  },
  {
   "cell_type": "code",
   "execution_count": 15,
   "id": "7abb2bd9",
   "metadata": {},
   "outputs": [
    {
     "data": {
      "text/plain": [
       "(array([1., 4., 2., 2., 3., 5., 2., 3., 3., 5.]),\n",
       " array([20. , 22.9, 25.8, 28.7, 31.6, 34.5, 37.4, 40.3, 43.2, 46.1, 49. ]),\n",
       " <BarContainer object of 10 artists>)"
      ]
     },
     "execution_count": 15,
     "metadata": {},
     "output_type": "execute_result"
    },
    {
     "data": {
      "image/png": "[encoded data removed]",
      "text/plain": [
       "<Figure size 432x288 with 1 Axes>"
      ]
     },
     "metadata": {
      "needs_background": "light"
     },
     "output_type": "display_data"
    }
   ],
   "source": [
    "plt.hist(temp1)"
   ]
  },
  {
   "cell_type": "code",
   "execution_count": 19,
   "id": "8f343b61",
   "metadata": {},
   "outputs": [
    {
     "data": {
      "text/plain": [
       "(array([1., 0., 2., 2., 1., 1., 2., 0., 2., 1., 1., 4., 0., 2., 0., 3., 2.,\n",
       "        1., 2., 3.]),\n",
       " array([20.  , 21.45, 22.9 , 24.35, 25.8 , 27.25, 28.7 , 30.15, 31.6 ,\n",
       "        33.05, 34.5 , 35.95, 37.4 , 38.85, 40.3 , 41.75, 43.2 , 44.65,\n",
       "        46.1 , 47.55, 49.  ]),\n",
       " <BarContainer object of 20 artists>)"
      ]
     },
     "execution_count": 19,
     "metadata": {},
     "output_type": "execute_result"
    },
    {
     "data": {
      "image/png": "[encoded data removed]",
      "text/plain": [
       "<Figure size 432x288 with 1 Axes>"
      ]
     },
     "metadata": {
      "needs_background": "light"
     },
     "output_type": "display_data"
    }
   ],
   "source": [
    "plt.hist(temp1,bins = 20,rwidth = 90)"
   ]
  },
  {
   "cell_type": "code",
   "execution_count": 27,
   "id": "249139ae",
   "metadata": {},
   "outputs": [
    {
     "data": {
      "text/plain": [
       "array([ 98, 169, 179,  87, 136, 100, 113, 133, 155, 128, 123, 131, 113,\n",
       "       141, 143, 134, 117, 140, 186, 122, 116, 105, 142, 126, 139, 162,\n",
       "       157, 112, 152,  85])"
      ]
     },
     "execution_count": 27,
     "metadata": {},
     "output_type": "execute_result"
    }
   ],
   "source": [
    "male = np.random.randint(80,190,(30))\n",
    "male"
   ]
  },
  {
   "cell_type": "code",
   "execution_count": 28,
   "id": "086ef062",
   "metadata": {},
   "outputs": [
    {
     "data": {
      "text/plain": [
       "(array([2., 3., 3., 4., 5., 6., 2., 2., 1., 2.]),\n",
       " array([ 85. ,  95.1, 105.2, 115.3, 125.4, 135.5, 145.6, 155.7, 165.8,\n",
       "        175.9, 186. ]),\n",
       " <BarContainer object of 10 artists>)"
      ]
     },
     "execution_count": 28,
     "metadata": {},
     "output_type": "execute_result"
    },
    {
     "data": {
      "image/png": "[encoded data removed]",
      "text/plain": [
       "<Figure size 432x288 with 1 Axes>"
      ]
     },
     "metadata": {
      "needs_background": "light"
     },
     "output_type": "display_data"
    }
   ],
   "source": [
    "plt.hist(male)"
   ]
  },
  {
   "cell_type": "code",
   "execution_count": 29,
   "id": "7529429f",
   "metadata": {},
   "outputs": [
    {
     "data": {
      "text/plain": [
       "(array([2., 1., 2., 0., 5., 2., 3., 3., 5., 1., 2., 1., 1., 1., 1.]),\n",
       " array([ 85.        ,  91.73333333,  98.46666667, 105.2       ,\n",
       "        111.93333333, 118.66666667, 125.4       , 132.13333333,\n",
       "        138.86666667, 145.6       , 152.33333333, 159.06666667,\n",
       "        165.8       , 172.53333333, 179.26666667, 186.        ]),\n",
       " <BarContainer object of 15 artists>)"
      ]
     },
     "execution_count": 29,
     "metadata": {},
     "output_type": "execute_result"
    },
    {
     "data": {
      "image/png": "[encoded data removed]",
      "text/plain": [
       "<Figure size 432x288 with 1 Axes>"
      ]
     },
     "metadata": {
      "needs_background": "light"
     },
     "output_type": "display_data"
    }
   ],
   "source": [
    "plt.hist(male,bins = 15)"
   ]
  },
  {
   "cell_type": "code",
   "execution_count": 30,
   "id": "e95dd72c",
   "metadata": {},
   "outputs": [
    {
     "data": {
      "text/plain": [
       "array([ 80,  72, 122,  97,  95,  89, 109, 143,  76, 123,  73,  77, 108,\n",
       "        77,  72, 118,  78,  93, 101, 104,  85, 132,  78, 130, 103,  90,\n",
       "       132, 132, 115, 110])"
      ]
     },
     "execution_count": 30,
     "metadata": {},
     "output_type": "execute_result"
    }
   ],
   "source": [
    "female = np.random.randint(70,150,(30))\n",
    "female"
   ]
  },
  {
   "cell_type": "code",
   "execution_count": 32,
   "id": "72f7e3a2",
   "metadata": {},
   "outputs": [
    {
     "data": {
      "text/plain": [
       "(array([[0., 2., 3., 5., 4., 6., 3., 4., 1., 2.],\n",
       "        [9., 4., 5., 4., 3., 4., 1., 0., 0., 0.]]),\n",
       " array([ 72. ,  83.4,  94.8, 106.2, 117.6, 129. , 140.4, 151.8, 163.2,\n",
       "        174.6, 186. ]),\n",
       " <a list of 2 BarContainer objects>)"
      ]
     },
     "execution_count": 32,
     "metadata": {},
     "output_type": "execute_result"
    },
    {
     "data": {
      "image/png": "[encoded data removed]",
      "text/plain": [
       "<Figure size 432x288 with 1 Axes>"
      ]
     },
     "metadata": {
      "needs_background": "light"
     },
     "output_type": "display_data"
    }
   ],
   "source": [
    "plt.hist([male,female],bins =10)"
   ]
  },
  {
   "cell_type": "code",
   "execution_count": 36,
   "id": "8a9d0e58",
   "metadata": {},
   "outputs": [
    {
     "data": {
      "text/plain": [
       "<matplotlib.legend.Legend at 0x211a06fb3d0>"
      ]
     },
     "execution_count": 36,
     "metadata": {},
     "output_type": "execute_result"
    },
    {
     "data": {
      "image/png": "[encoded data removed]",
      "text/plain": [
       "<Figure size 432x288 with 1 Axes>"
      ]
     },
     "metadata": {
      "needs_background": "light"
     },
     "output_type": "display_data"
    }
   ],
   "source": [
    "plt.hist([male,female],bins = 10,color = [\"yellow\",\"r\"],label = [\"male\",\"female\"])\n",
    "plt.legend()"
   ]
  },
  {
   "cell_type": "code",
   "execution_count": 38,
   "id": "889622f2",
   "metadata": {},
   "outputs": [
    {
     "data": {
      "text/plain": [
       "<matplotlib.legend.Legend at 0x211a0813550>"
      ]
     },
     "execution_count": 38,
     "metadata": {},
     "output_type": "execute_result"
    },
    {
     "data": {
      "image/png": "[encoded data removed]",
      "text/plain": [
       "<Figure size 432x288 with 1 Axes>"
      ]
     },
     "metadata": {
      "needs_background": "light"
     },
     "output_type": "display_data"
    }
   ],
   "source": [
    "plt.hist([male,female],bins = 10,color = [\"yellow\",\"r\"],label = [\"male\",\"female\"],orientation = \"horizontal\")\n",
    "plt.legend()"
   ]
  },
  {
   "cell_type": "code",
   "execution_count": 40,
   "id": "72aa4624",
   "metadata": {},
   "outputs": [
    {
     "data": {
      "image/png": "[encoded data removed]",
      "text/plain": [
       "<Figure size 432x288 with 1 Axes>"
      ]
     },
     "metadata": {
      "needs_background": "light"
     },
     "output_type": "display_data"
    }
   ],
   "source": [
    "plt.scatter(male,female)\n",
    "plt.show()"
   ]
  },
  {
   "cell_type": "code",
   "execution_count": null,
   "id": "57c533a7",
   "metadata": {},
   "outputs": [],
   "source": []
  }
 ],
 "metadata": {
  "kernelspec": {
   "display_name": "Python 3",
   "language": "python",
   "name": "python3"
  },
  "language_info": {
   "codemirror_mode": {
    "name": "ipython",
    "version": 3
   },
   "file_extension": ".py",
   "mimetype": "text/x-python",
   "name": "python",
   "nbconvert_exporter": "python",
   "pygments_lexer": "ipython3",
   "version": "3.8.8"
  }
 },
 "nbformat": 4,
 "nbformat_minor": 5
}
